{
 "cells": [
  {
   "cell_type": "code",
   "execution_count": 1,
   "metadata": {},
   "outputs": [
    {
     "name": "stderr",
     "output_type": "stream",
     "text": [
      "/usr/local/lib/python3.6/dist-packages/h5py/__init__.py:36: FutureWarning: Conversion of the second argument of issubdtype from `float` to `np.floating` is deprecated. In future, it will be treated as `np.float64 == np.dtype(float).type`.\n",
      "  from ._conv import register_converters as _register_converters\n",
      "Using TensorFlow backend.\n"
     ]
    }
   ],
   "source": [
    "#!/usr/bin/python3\n",
    "# -*- coding: UTF-8 -*-\n",
    "\n",
    "import os\n",
    "import csv\n",
    "import math\n",
    "import numpy as np\n",
    "import pandas as pd\n",
    "\n",
    "from sklearn import preprocessing\n",
    "from keras.models import Sequential\n",
    "from keras.layers import Activation,Dense, Dropout\n",
    "from datetime import datetime,timedelta"
   ]
  },
  {
   "cell_type": "code",
   "execution_count": 2,
   "metadata": {},
   "outputs": [],
   "source": [
    "TRAIN_FILE_PATH= './data/training_data.csv'\n",
    "TEST_FILE_PATH= './data/testing_data.csv'\n",
    "\n",
    "train_df = pd.read_csv(TRAIN_FILE_PATH)\n",
    "test_df = pd.read_csv(TEST_FILE_PATH)\n",
    "\n",
    "train_cols = ['age', 'job', 'marital','education', 'default', 'balance', 'housing', 'loan'\n",
    "       , 'contact','day', 'month', 'duration', 'campaign', 'pdays' , 'previous', 'poutcome', \"y\"]\n",
    "test_cols = ['age', 'job', 'marital','education', 'default', 'balance', 'housing', 'loan'\n",
    "       , 'contact','day', 'month', 'duration', 'campaign', 'pdays' , 'previous', 'poutcome']\n",
    "\n",
    "train_df = train_df[train_cols]\n",
    "test_df = test_df[test_cols]"
   ]
  },
  {
   "cell_type": "code",
   "execution_count": 3,
   "metadata": {},
   "outputs": [
    {
     "name": "stdout",
     "output_type": "stream",
     "text": [
      "40689 4763  Deposit percentage : 0.11705866450391998\n",
      "5841 4763  Deposit percentage : 0.815442561205273\n"
     ]
    }
   ],
   "source": [
    "def PreprocessData(raw_df , data_type):\n",
    "    #Remove the 'name' col 雙親或子女在船上的數量、 Ticket\n",
    "    df = raw_df.drop(['default'], axis=1)\n",
    "#     df = raw_df.drop(['month'], axis=1)\n",
    "     \n",
    "#     print(type(df['marital'][0]), df['marital'][0])\n",
    "#     df['job'] = df['job'].map({\"unknown\" : 0, 'services': 1, 'admin.': 2, 'technician': 3,'blue-collar': 4, \n",
    "#                                'housemaid': 5, 'entrepreneur': 6, 'self-employed': 7, 'retired': 8,\n",
    "#                                'management': 9, \"student\" : 10, \"unemployed\" : 11}).astype(int)\n",
    "    df['marital'] = df['marital'].map({ 'divorced': 0 , 'single': 1, 'married': 2}).astype(int)\n",
    "#     df['education'] = df['education'].map({ 'secondary': 0 , 'primary': 1, 'tertiary': 2, \"unknown\" :3}).astype(int)\n",
    "#     df['balance'] = df['marital'].map({ 'divorced': 0 , 'single': 1, 'married.': 2}).astype(int)\n",
    "    df['housing'] = df['housing'].map({ 'no': 0 , 'yes': 1, 'married.': 2}).astype(int)\n",
    "    df['loan'] = df['loan'].map({ 'no': 0 , 'yes': 1, 'married.': 2}).astype(int)\n",
    "    df['contact'] = df['contact'].map({ 'unknown': 0 , 'telephone': 1, 'cellular': 2}).astype(int)\n",
    "#     df['day'] = df['marital'].map({ 'divorced': 0 , 'single': 1, 'married.': 2}).astype(int)\n",
    "#     df['month'] = df['month'].map({ 'jan': 1, 'feb': 2, 'mar': 3 , 'apr': 4 , 'may': 5, 'jun': 6, 'jul': 7, 'aug': 8,'sep': 9, 'oct': 10 , 'nov': 11, 'dec': 12}).astype(int)\n",
    "#     df['duration'] = df['marital'].map({ 'divorced': 0 , 'single': 1, 'married.': 2}).astype(int)\n",
    "#     df['campaign'] = df['marital'].map({ 'divorced': 0 , 'single': 1, 'married.': 2}).astype(int)\n",
    "#     df['pdays'] = df['marital'].map({ 'divorced': 0 , 'single': 1, 'married.': 2}).astype(int)\n",
    "#     df['previous'] = df['marital'].map({ 'divorced': 0 , 'single': 1, 'married.': 2}).astype(int)\n",
    "    df['poutcome'] = df['poutcome'].map({ 'failure': 0 , 'success': 1, 'unknown': 2, 'other': 3}).astype(int)\n",
    "    df['duration'] = df['duration'] /100.0\n",
    "    df['age'] = df['age'] /100.0\n",
    "    \n",
    "    if data_type == \"train\":\n",
    "        df['y'] = df['y'].map({ 'no': 0 , 'yes': 1}).astype(int)\n",
    "        df1 = df[df.y.isin([1])]\n",
    "        print(len(df), len(df1),\" Deposit percentage :\" , len(df1)/ len(df))\n",
    "        \n",
    "        df0 = df[df.y.isin([0])].sample(frac=0.03) \n",
    "        newdf = df1.append(df0).sample(frac=1) \n",
    "        print(len(newdf), len(df1),\" Deposit percentage :\" , len(df1)/ len(newdf))\n",
    "    else:\n",
    "        df['y'] = 0\n",
    "\n",
    "    x_OneHot_df = pd.get_dummies(data=df, columns = [\"month\", 'job', 'education'])\n",
    "    ndarray = x_OneHot_df.values\n",
    "    \n",
    "    label = ndarray[:,14]  \n",
    "    Features = ndarray[:,1:] \n",
    "    minmax_scale = preprocessing.MinMaxScaler(feature_range=(0, 1))\n",
    "    scaledFeatures = minmax_scale.fit_transform(Features)\n",
    "    return scaledFeatures, label\n",
    "\n",
    "train_result, train_label = PreprocessData(train_df, \"train\")\n",
    "test_feature, test_label = PreprocessData(test_df , \"test\")"
   ]
  },
  {
   "cell_type": "code",
   "execution_count": 4,
   "metadata": {},
   "outputs": [
    {
     "name": "stdout",
     "output_type": "stream",
     "text": [
      "_________________________________________________________________\n",
      "Layer (type)                 Output Shape              Param #   \n",
      "=================================================================\n",
      "dense_1 (Dense)              (None, 13)                533       \n",
      "_________________________________________________________________\n",
      "activation_1 (Activation)    (None, 13)                0         \n",
      "_________________________________________________________________\n",
      "dense_2 (Dense)              (None, 1)                 14        \n",
      "_________________________________________________________________\n",
      "activation_2 (Activation)    (None, 1)                 0         \n",
      "=================================================================\n",
      "Total params: 547\n",
      "Trainable params: 547\n",
      "Non-trainable params: 0\n",
      "_________________________________________________________________\n"
     ]
    }
   ],
   "source": [
    "model = Sequential()\n",
    "model.add(Dense(units=13, input_dim= 40))\n",
    "model.add(Activation('relu'))\n",
    "\n",
    "# model.add(Dense(units=10))\n",
    "# model.add(Activation('relu'))\n",
    "\n",
    "# model.add(Dense(units=5))\n",
    "# model.add(Activation('relu'))\n",
    "\n",
    "model.add(Dense(units=1))\n",
    "model.add(Activation('sigmoid'))\n",
    "model.compile(loss='binary_crossentropy', optimizer='adam', metrics=['accuracy'])\n",
    "model.summary()"
   ]
  },
  {
   "cell_type": "code",
   "execution_count": 5,
   "metadata": {},
   "outputs": [
    {
     "name": "stdout",
     "output_type": "stream",
     "text": [
      "Train on 36620 samples, validate on 4069 samples\n",
      "Epoch 1/3\n",
      "36620/36620 [==============================] - 7s 196us/step - loss: 0.0540 - acc: 0.9819 - val_loss: 6.2241e-04 - val_acc: 1.0000\n",
      "Epoch 2/3\n",
      "36620/36620 [==============================] - 8s 216us/step - loss: 2.1969e-04 - acc: 1.0000 - val_loss: 5.3059e-05 - val_acc: 1.0000\n",
      "Epoch 3/3\n",
      "36620/36620 [==============================] - 7s 202us/step - loss: 2.2093e-05 - acc: 1.0000 - val_loss: 6.4376e-06 - val_acc: 1.0000\n",
      "40689/40689 [==============================] - 8s 193us/step\n"
     ]
    }
   ],
   "source": [
    "model.fit(x = train_result, y = train_label, epochs = 3, validation_split = 0.1, batch_size = 10, verbose = 1)\n",
    "scores = model.evaluate(x = train_result, y = train_label, batch_size=5)"
   ]
  },
  {
   "cell_type": "code",
   "execution_count": 6,
   "metadata": {},
   "outputs": [
    {
     "name": "stdout",
     "output_type": "stream",
     "text": [
      "[6.514156879284139e-06, 1.0]\n"
     ]
    }
   ],
   "source": [
    "res = model.predict(test_feature, batch_size=5, verbose=0)\n",
    "print(scores)"
   ]
  },
  {
   "cell_type": "code",
   "execution_count": 9,
   "metadata": {},
   "outputs": [
    {
     "name": "stdout",
     "output_type": "stream",
     "text": [
      "Count how many people will Deposit: \n",
      "633 test predict result Deposit percentage : 0.1488711194731891\n"
     ]
    }
   ],
   "source": [
    "res_csv_file_path = \"result.csv\"\n",
    "\n",
    "with open(res_csv_file_path, \"w\") as output:\n",
    "    writer = csv.writer(output, lineterminator='\\n')\n",
    "    writer.writerow(('id', 'ans'))\n",
    "    ids = 0\n",
    "    for val in res:\n",
    "        if val[0] > 0.5:\n",
    "            writer.writerow((str(ids), str(1)))\n",
    "        else:\n",
    "            writer.writerow((str(ids), str(0)))\n",
    "        ids += 1\n",
    "\n",
    "print(\"Count how many people will Deposit: \")\n",
    "with open(res_csv_file_path) as csvfile:\n",
    "    counts = 0\n",
    "    train_csv = csv.DictReader(csvfile)\n",
    "    for row in train_csv:\n",
    "        if row[\"ans\"]  == \"1\":\n",
    "#             print(row[\"id\"])\n",
    "            counts += 1\n",
    "print(counts, \"test predict result Deposit percentage :\" , counts / 4252)"
   ]
  },
  {
   "cell_type": "code",
   "execution_count": 7,
   "metadata": {},
   "outputs": [
    {
     "name": "stdout",
     "output_type": "stream",
     "text": [
      "633 Deposit percentage 0.2 : 0.1488711194731891\n",
      "633 Deposit percentage 0.3 : 0.1488711194731891\n",
      "633 Deposit percentage 0.4 : 0.1488711194731891\n",
      "633 Deposit percentage 0.5 : 0.1488711194731891\n",
      "633 Deposit percentage 0.6 : 0.1488711194731891\n",
      "633 Deposit percentage 0.7 : 0.1488711194731891\n"
     ]
    }
   ],
   "source": [
    "counts1 = 0\n",
    "counts2 = 0\n",
    "counts3 = 0\n",
    "counts4 = 0\n",
    "counts5 = 0\n",
    "counts6 = 0\n",
    "for val in res:\n",
    "    if val[0] > 0.2:\n",
    "        counts1+=1\n",
    "    if val[0] > 0.3:\n",
    "        counts2+=1\n",
    "    if val[0] > 0.4:\n",
    "        counts3+=1\n",
    "    if val[0] > 0.5:\n",
    "        counts4+=1\n",
    "    if val[0] > 0.6:\n",
    "        counts5+=1\n",
    "    if val[0] > 0.7:\n",
    "        counts6+=1\n",
    "print(counts1, \"Deposit percentage 0.2 :\" , counts1 / 4252)\n",
    "print(counts2, \"Deposit percentage 0.3 :\" , counts2 / 4252)\n",
    "print(counts3, \"Deposit percentage 0.4 :\" , counts3 / 4252)\n",
    "print(counts4, \"Deposit percentage 0.5 :\" , counts4 / 4252)\n",
    "print(counts5, \"Deposit percentage 0.6 :\" , counts5 / 4252)\n",
    "print(counts6, \"Deposit percentage 0.7 :\" , counts6 / 4252)"
   ]
  },
  {
   "cell_type": "code",
   "execution_count": null,
   "metadata": {},
   "outputs": [],
   "source": []
  }
 ],
 "metadata": {
  "kernelspec": {
   "display_name": "Python 3",
   "language": "python",
   "name": "python3"
  },
  "language_info": {
   "codemirror_mode": {
    "name": "ipython",
    "version": 3
   },
   "file_extension": ".py",
   "mimetype": "text/x-python",
   "name": "python",
   "nbconvert_exporter": "python",
   "pygments_lexer": "ipython3",
   "version": "3.6.5"
  }
 },
 "nbformat": 4,
 "nbformat_minor": 2
}
