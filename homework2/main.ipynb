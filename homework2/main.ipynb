{
 "cells": [
  {
   "cell_type": "code",
   "execution_count": 7,
   "metadata": {},
   "outputs": [],
   "source": [
    "import csv\n",
    "import numpy as np\n",
    "import pandas as pd\n",
    "import matplotlib.pyplot as plt\n",
    "import seaborn  \n",
    "\n",
    "from sklearn.preprocessing import StandardScaler\n",
    "from sklearn.cluster import KMeans"
   ]
  },
  {
   "cell_type": "code",
   "execution_count": 14,
   "metadata": {},
   "outputs": [
    {
     "name": "stdout",
     "output_type": "stream",
     "text": [
      "(368, 13)\n"
     ]
    }
   ],
   "source": [
    "dataset = pd.read_csv('HW2_pokemon.csv')\n",
    "class_mapping = {label:idx for idx,label in enumerate(set(dataset['Body_Style']))}\n",
    "dataset['Body_Style'] = dataset['Body_Style'].map(class_mapping)\n",
    "print(dataset.shape)\n",
    "dataset_num = dataset[['Total','HP','Attack','Defense','Sp_Atk','Sp_Def','Speed', 'Height_m', 'Weight_kg','Body_Style' ]]"
   ]
  },
  {
   "cell_type": "code",
   "execution_count": 15,
   "metadata": {},
   "outputs": [],
   "source": [
    "ss = StandardScaler()\n",
    "dataset_num = ss.fit_transform(dataset_num)\n",
    "dataset_scaled  = dataset.copy()\n",
    "dataset_scaled[['Total','HP','Attack','Defense','Sp_Atk','Sp_Def','Speed', 'Height_m', 'Weight_kg' ,'Body_Style']] = dataset_num"
   ]
  },
  {
   "cell_type": "code",
   "execution_count": 16,
   "metadata": {},
   "outputs": [],
   "source": [
    "# loss = []\n",
    "# for i in range(1, 101):\n",
    "#     kmeans = KMeans(n_clusters = i, init = 'k-means++', random_state = 42)\n",
    "#     kmeans.fit(dataset_num)\n",
    "#     loss.append(kmeans.inertia_)\n",
    "# plt.plot(range(1, 101), loss)\n",
    "# plt.xticks(np.arange(1, 101, 1.0))\n",
    "# plt.grid( axis='x')\n",
    "# plt.show()"
   ]
  },
  {
   "cell_type": "code",
   "execution_count": 30,
   "metadata": {},
   "outputs": [
    {
     "data": {
      "image/png": "[encoded data removed]",
      "text/plain": [
       "<Figure size 432x288 with 1 Axes>"
      ]
     },
     "metadata": {},
     "output_type": "display_data"
    }
   ],
   "source": [
    "# n_clusters 分成多少群\n",
    "kmeans = KMeans(n_clusters = 280, init = 'k-means++', random_state = 280)\n",
    "y_kmeans = kmeans.fit_predict(dataset_num)\n",
    "\n",
    "# 画出 K-means 的分类情况\n",
    "dataset['y_kmeans'] = y_kmeans\n",
    "seaborn.violinplot(x='y_kmeans', y='Sp_Atk', data=dataset)\n",
    "plt.show()"
   ]
  },
  {
   "cell_type": "code",
   "execution_count": 28,
   "metadata": {},
   "outputs": [
    {
     "name": "stdout",
     "output_type": "stream",
     "text": [
      "y_kmeans :  <class 'numpy.ndarray'> (368,)\n",
      "[  1  44 222 298 255 184 106 272  91  98 288 183 132 278 192  76  76 277\n",
      "   8 185]\n",
      "<class 'pandas.core.frame.DataFrame'> (1000, 3)\n",
      "[[0, 0], [1, 0], [2, 0], [3, 0], [4, 0], [5, 0], [6, 0], [7, 0], [8, 0], [9, 0]]\n",
      "---------------execute finished.\n"
     ]
    }
   ],
   "source": [
    "print(\"y_kmeans : \", type(y_kmeans), y_kmeans.shape)\n",
    "print(y_kmeans[:20])\n",
    "test_dataset = pd.read_csv('subject.csv')\n",
    "print(type(test_dataset), test_dataset.shape)\n",
    "\n",
    "index = 0\n",
    "res = []\n",
    "# MIDDLE = 29\n",
    "for td1,td2  in zip(test_dataset[\"0\"], test_dataset[\"1\"]):\n",
    "    td1_i = int(td1[7:])\n",
    "    td2_i = int(td2[7:])\n",
    "    if y_kmeans[td1_i] == y_kmeans[td2_i]:\n",
    "# 后来发现这种判断不能用，会大幅降低判断的准确性        \n",
    "#     if y_kmeans[td1_i] < MIDDLE and  y_kmeans[td2_i] < MIDDLE:\n",
    "#         print(index, td1_i, td2_i, y_kmeans[td1_i] , y_kmeans[td2_i])\n",
    "        res.append([index, 1])\n",
    "#     elif y_kmeans[td1_i] >= MIDDLE and  y_kmeans[td2_i] >= MIDDLE:\n",
    "#         res.append([index, 1])\n",
    "    else:\n",
    "        res.append([index, 0])\n",
    "    index += 1\n",
    "\n",
    "print(res[:10])\n",
    "\n",
    "# 把預測的結果生成 kaggle要求的格式\n",
    "# pair，值為0~999，第二欄取名：answer\n",
    "res_csv_file_path = \"result.csv\"\n",
    "with open(res_csv_file_path, \"w\") as output:\n",
    "    writer = csv.writer(output, lineterminator='\\n')\n",
    "    writer.writerow(('pair', 'answer'))\n",
    "    ids = 0\n",
    "    for val in res:\n",
    "        writer.writerow((str(ids),val[1]))\n",
    "        ids += 1\n",
    "print(\"---------------execute finished.\")"
   ]
  },
  {
   "cell_type": "code",
   "execution_count": null,
   "metadata": {},
   "outputs": [],
   "source": []
  }
 ],
 "metadata": {
  "kernelspec": {
   "display_name": "Python 3",
   "language": "python",
   "name": "python3"
  },
  "language_info": {
   "codemirror_mode": {
    "name": "ipython",
    "version": 3
   },
   "file_extension": ".py",
   "mimetype": "text/x-python",
   "name": "python",
   "nbconvert_exporter": "python",
   "pygments_lexer": "ipython3",
   "version": "3.6.5"
  }
 },
 "nbformat": 4,
 "nbformat_minor": 2
}
